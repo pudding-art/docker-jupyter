{
 "cells": [
  {
   "cell_type": "markdown",
   "metadata": {},
   "source": [
    "# 👋 欢迎使用单容器 Jupyter 环境\n",
    "这份 notebook 演示如何加载持久化数据并做简单可视化。"
   ]
  },
  {
   "cell_type": "code",
   "execution_count": null,
   "metadata": {},
   "outputs": [],
   "source": [
    "# 自动下载 Iris 数据集并保存到持久目录\n",
    "import os, urllib.request, zipfile, pandas as pd, seaborn as sns, matplotlib.pyplot as plt\n",
    "\n",
    "# 数据目录\n",
    "DATA_DIR = '/home/jovyan/data'\n",
    "os.makedirs(DATA_DIR, exist_ok=True)\n",
    "\n",
    "# 如果 iris.csv 不存在就下载\n",
    "csv_path = os.path.join(DATA_DIR, 'iris.csv')\n",
    "if not os.path.exists(csv_path):\n",
    "    url = 'https://raw.githubusercontent.com/mwaskom/seaborn-data/master/iris.csv'\n",
    "    urllib.request.urlretrieve(url, csv_path)\n",
    "\n",
    "# 读取并预览\n",
    "df = pd.read_csv(csv_path)\n",
    "df.head()"
   ]
  },
  {
   "cell_type": "code",
   "execution_count": null,
   "metadata": {},
   "outputs": [],
   "source": [
    "# 快速可视化\n",
    "sns.pairplot(df, hue='species', palette='Set2')\n",
    "plt.suptitle('Iris Pairplot', y=1.02)\n",
    "plt.show()"
   ]
  }
 ],
 "metadata": {
  "kernelspec": {
   "display_name": "Python 3 (ipykernel)",
   "language": "python",
   "name": "python3"
  },
  "language_info": {
   "name": "python",
   "version": "3.11"
  }
 },
 "nbformat": 4,
 "nbformat_minor": 5
}
