{
 "cells": [
  {
   "cell_type": "markdown",
   "metadata": {},
   "source": [
    "# DeepSeek Chat 快速上手\n",
    "演示如何用 OpenAI 兼容接口调用 DeepSeek 模型做代码补全与问答。"
   ]
  },
  {
   "cell_type": "code",
   "execution_count": null,
   "metadata": {},
   "outputs": [],
   "source": [
    "import os\n",
    "from openai import OpenAI\n",
    "\n",
    "client = OpenAI(\n",
    "    api_key=os.getenv(\"DEEPSEEK_API_KEY\"),\n",
    "    base_url=\"https://api.deepseek.com/v1\"\n",
    ")\n",
    "\n",
    "def ask_deepseek(messages, model=\"deepseek-chat\", temperature=0.3):\n",
    "    resp = client.chat.completions.create(model=model, messages=messages, temperature=temperature)\n",
    "    return resp.choices[0].message.content"
   ]
  },
  {
   "cell_type": "markdown",
   "metadata": {},
   "source": [
    "## 1. 让 AI 解释一段代码"
   ]
  },
  {
   "cell_type": "code",
   "execution_count": null,
   "metadata": {},
   "outputs": [],
   "source": [
    "code_snippet = '''\ndef fib(n):\n    a, b = 0, 1\n    for _ in range(n):\n        yield a\n        a, b = b, a + b\n'''\n",
    "prompt = [\n",
    "    {\"role\": \"user\", \"content\": f\"请用中文解释下面的 Python 代码：\\n{code_snippet}\"}\n",
    "]\n",
    "print(ask_deepseek(prompt))"
   ]
  },
  {
   "cell_type": "markdown",
   "metadata": {},
   "source": [
    "## 2. 让 AI 帮你写单元测试"
   ]
  },
  {
   "cell_type": "code",
   "execution_count": null,
   "metadata": {},
   "outputs": [],
   "source": [
    "prompt = [\n",
    "    {\"role\": \"user\", \"content\": f\"请为下面函数生成 pytest 单元测试：\\n{code_snippet}\"}\n",
    "]\n",
    "print(ask_deepseek(prompt))"
   ]
  },
  {
   "cell_type": "markdown",
   "metadata": {},
   "source": [
    "## 3. 多轮对话示例"
   ]
  },
  {
   "cell_type": "code",
   "execution_count": null,
   "metadata": {},
   "outputs": [],
   "source": [
    "history = [\n",
    "    {\"role\": \"user\", \"content\": \"如何在 Pandas 里按某列分组后取每组前 3 行？\"},\n",
    "]\n",
    "reply1 = ask_deepseek(history)\n",
    "print(\"AI:\", reply1)\n",
    "\n",
    "history.append({\"role\": \"assistant\", \"content\": reply1})\n",
    "history.append({\"role\": \"user\", \"content\": \"能否顺便排序后再取前 3？\"})\n",
    "print(\"AI:\", ask_deepseek(history))"
   ]
  }
 ],
 "metadata": {
  "kernelspec": {
   "display_name": "Python 3 (ipykernel)",
   "language": "python",
   "name": "python3"
  },
  "language_info": {
   "name": "python",
   "version": "3.11"
  }
 },
 "nbformat": 4,
 "nbformat_minor": 4
}