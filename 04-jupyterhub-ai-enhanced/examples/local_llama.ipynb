{
 "cells": [
  {
   "cell_type": "markdown",
   "metadata": {},
   "source": [
    "# Ollama 测试 Notebook"
   ]
  },
  {
   "cell_type": "code",
   "execution_count": null,
   "metadata": {},
   "outputs": [],
   "source": [
    "import os\n",
    "import requests\n",
    "\n",
    "# 从环境变量中获取 Ollama 的 API 基础 URL 和 API 密钥\n",
    "OLLAMA_API_BASE = os.getenv('OLLAMA_API_BASE', 'http://ollama:11434')\n",
    "OLLAMA_API_KEY = os.getenv('OLLAMA_API_KEY', 'your_ollama_api_key')\n",
    "\n",
    "# 设置请求头\n",
    "headers = {\n",
    "    'Authorization': f'Bearer {OLLAMA_API_KEY}'\n",
    "}\n",
    "\n",
    "# 查询 Ollama 模型信息\n",
    "response = requests.get(f'{OLLAMA_API_BASE}/api/models', headers=headers)\n",
    "models = response.json()\n",
    "models"
   ]
  },
  {
   "cell_type": "markdown",
   "metadata": {},
   "source": [
    "## 生成文本"
   ]
  },
  {
   "cell_type": "code",
   "execution_count": null,
   "metadata": {},
   "outputs": [],
   "source": [
    "# 使用 Ollama 生成文本\n",
    "prompt = 'Write a short story about a futuristic city.'\n",
    "data = {\n",
    "    'prompt': prompt,\n",
    "    'model': 'llama2'  # 替换为你想要使用的模型名称\n",
    "}\n",
    "\n",
    "response = requests.post(f'{OLLAMA_API_BASE}/api/generate', headers=headers, json=data)\n",
    "generated_text = response.json()['response']\n",
    "generated_text"
   ]
  }
 ],
 "metadata": {
  "kernelspec": {
   "display_name": "Python 3",
   "language": "python",
   "name": "python3"
  },
  "language_info": {
   "codemirror_mode": {
    "name": "ipython",
    "version": 3
   },
   "file_extension": ".py",
   "mimetype": "text/x-python",
   "name": "python",
   "nbconvert_exporter": "python",
   "pygments_lexer": "ipython3",
   "version": "3.8.10"
  }
 },
 "nbformat": 4,
 "nbformat_minor": 4
}