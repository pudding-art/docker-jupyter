{
 "cells": [
  {
   "cell_type": "markdown",
   "metadata": {},
   "source": [
    "# 测试 PostgreSQL 连接"
   ]
  },
  {
   "cell_type": "code",
   "execution_count": null,
   "metadata": {},
   "outputs": [],
   "source": [
    "!pip install psycopg2-binary\n",
    "\n",
    "import psycopg2\n",
    "from psycopg2 import sql\n",
    "\n",
    "def connect_db():\n",
    "    conn = psycopg2.connect(\n",
    "        dbname='jupyterhub_db',\n",
    "        user='postgres',\n",
    "        password='mysecretpassword',\n",
    "        host='localhost',\n",
    "        port='5432'\n",
    "    )\n",
    "    return conn\n",
    "\n",
    "def create_table(conn):\n",
    "    cur = conn.cursor()\n",
    "    cur.execute(\n",
    "        \"CREATE TABLE IF NOT EXISTS test_table (\\\n",
    "            id SERIAL PRIMARY KEY,\\\n",
    "            name VARCHAR(100)\n",
    "        )\"\n",
    "    )\n",
    "    conn.commit()\n",
    "    cur.close()\n",
    "\n",
    "def insert_data(conn):\n",
    "    cur = conn.cursor()\n",
    "    cur.execute(sql.SQL(\"INSERT INTO test_table (name) VALUES (%s)\"), ('Test Entry',))\n",
    "    conn.commit()\n",
    "    cur.close()\n",
    "\n",
    "def query_data(conn):\n",
    "    cur = conn.cursor()\n",
    "    cur.execute(\"SELECT * FROM test_table\")\n",
    "    rows = cur.fetchall()\n",
    "    for row in rows:\n",
    "        print(row)\n",
    "    cur.close()\n",
    "\n",
    "conn = connect_db()\n",
    "create_table(conn)\n",
    "insert_data(conn)\n",
    "query_data(conn)\n",
    "conn.close()"
   ]
  }
 ],
 "metadata": {
  "kernelspec": {
   "display_name": "Python 3",
   "language": "python",
   "name": "python3"
  },
  "language_info": {
   "codemirror_mode": {
    "name": "ipython",
    "version": 3
   },
   "file_extension": ".py",
   "mimetype": "text/x-python",
   "name": "python",
   "nbconvert_exporter": "python",
   "pygments_lexer": "ipython3",
   "version": "3.8.10"
  }
 },
 "nbformat": 4,
 "nbformat_minor": 4
}
